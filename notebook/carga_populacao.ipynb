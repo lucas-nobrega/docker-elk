{
 "metadata": {
  "language_info": {
   "codemirror_mode": {
    "name": "ipython",
    "version": 3
   },
   "file_extension": ".py",
   "mimetype": "text/x-python",
   "name": "python",
   "nbconvert_exporter": "python",
   "pygments_lexer": "ipython3",
   "version": "3.9.5"
  },
  "orig_nbformat": 4,
  "kernelspec": {
   "name": "python3",
   "display_name": "Python 3.9.5 64-bit"
  },
  "interpreter": {
   "hash": "aee8b7b246df8f9039afb4144a1f6fd8d2ca17a180786b69acc140d282b71a49"
  }
 },
 "nbformat": 4,
 "nbformat_minor": 2,
 "cells": [
  {
   "cell_type": "code",
   "execution_count": null,
   "metadata": {},
   "outputs": [],
   "source": [
    "import pandas as pd\n",
    "\n"
   ]
  },
  {
   "cell_type": "code",
   "execution_count": null,
   "metadata": {},
   "outputs": [],
   "source": [
    "tipos = {\n",
    "    \"COD. UF\" : str,\n",
    "    \"COD. MUNIC\" : str\n",
    "}\n",
    "\n",
    "dfPopulacao = pd.read_excel(\"../datasets/estimativa_dou_2020.xls\", sheet_name=\"Municípios\", skiprows=1, dtype=tipos)\n",
    "dfPopulacao.info()"
   ]
  },
  {
   "cell_type": "code",
   "execution_count": null,
   "metadata": {},
   "outputs": [],
   "source": [
    "dfPopulacao"
   ]
  },
  {
   "cell_type": "code",
   "execution_count": null,
   "metadata": {},
   "outputs": [],
   "source": [
    "colunas = {\n",
    "    \"UF\" : \"uf\",\n",
    "    \"COD. UF\": \"codigo_uf\",\n",
    "    \"COD. MUNIC\" : \"codigo_municipio\",\n",
    "    \"NOME DO MUNICÍPIO\": \"nome_municipio\",\n",
    "    \"POPULAÇÃO ESTIMADA\" : \"populacao\"\n",
    "}\n",
    "\n",
    "\n",
    "dfPopulacao.rename(columns=colunas, inplace=True)\n",
    "dfPopulacao"
   ]
  },
  {
   "cell_type": "code",
   "execution_count": null,
   "metadata": {},
   "outputs": [],
   "source": [
    "dfPopulacao.dropna(inplace=True)\n",
    "dfPopulacao"
   ]
  },
  {
   "cell_type": "code",
   "execution_count": null,
   "metadata": {},
   "outputs": [],
   "source": [
    "dfPopulacao[\"populacao\"] = dfPopulacao[\"populacao\"].replace({r\"(\\d+)(.*)\" : r\"\\1\"}, regex=True)\n",
    "\n",
    "dfPopulacao[\"municipioIBGE\"] = dfPopulacao[\"codigo_uf\"] + dfPopulacao[\"codigo_municipio\"]"
   ]
  },
  {
   "cell_type": "code",
   "execution_count": null,
   "metadata": {},
   "outputs": [],
   "source": [
    "dfPopulacao.to_csv(\"../datasets/populacao_tratada.csv\", sep=\";\", index=False)"
   ]
  }
 ]
}