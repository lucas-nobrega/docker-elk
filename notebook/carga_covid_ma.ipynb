{
 "metadata": {
  "language_info": {
   "codemirror_mode": {
    "name": "ipython",
    "version": 3
   },
   "file_extension": ".py",
   "mimetype": "text/x-python",
   "name": "python",
   "nbconvert_exporter": "python",
   "pygments_lexer": "ipython3",
   "version": "3.9.5"
  },
  "orig_nbformat": 4,
  "kernelspec": {
   "name": "python3",
   "display_name": "Python 3.9.5 64-bit"
  },
  "interpreter": {
   "hash": "aee8b7b246df8f9039afb4144a1f6fd8d2ca17a180786b69acc140d282b71a49"
  }
 },
 "nbformat": 4,
 "nbformat_minor": 2,
 "cells": [
  {
   "cell_type": "code",
   "execution_count": 5,
   "metadata": {},
   "outputs": [],
   "source": [
    "import pandas as pd \n"
   ]
  },
  {
   "cell_type": "code",
   "execution_count": 6,
   "metadata": {},
   "outputs": [
    {
     "output_type": "stream",
     "name": "stdout",
     "text": [
      "<class 'pandas.core.frame.DataFrame'>\nRangeIndex: 997928 entries, 0 to 997927\nData columns (total 29 columns):\n #   Column                    Non-Null Count   Dtype  \n---  ------                    --------------   -----  \n 0   �id                       997928 non-null  object \n 1   dataNotificacao           996897 non-null  object \n 2   dataInicioSintomas        992513 non-null  object \n 3   dataNascimento            997928 non-null  object \n 4   sintomas                  997484 non-null  object \n 5   profissionalSaude         996330 non-null  object \n 6   cbo                       54189 non-null   object \n 7   condicoes                 91433 non-null   object \n 8   estadoTeste               964313 non-null  object \n 9   dataTeste                 789349 non-null  object \n 10  tipoTeste                 806270 non-null  object \n 11  resultadoTeste            706051 non-null  object \n 12  paisOrigem                997928 non-null  object \n 13  sexo                      997922 non-null  object \n 14  estado                    997928 non-null  object \n 15  estadoIBGE                997928 non-null  int64  \n 16  municipio                 997922 non-null  object \n 17  municipioIBGE             997846 non-null  float64\n 18  origem                    997928 non-null  object \n 19  estadoNotificacao         997926 non-null  object \n 20  estadoNotificacaoIBGE     997926 non-null  float64\n 21  municipioNotificacao      997907 non-null  object \n 22  municipioNotificacaoIBGE  997070 non-null  float64\n 23  excluido                  997928 non-null  object \n 24  validado                  997928 non-null  object \n 25  idade                     997924 non-null  float64\n 26  dataEncerramento          195240 non-null  object \n 27  evolucaoCaso              211417 non-null  object \n 28  classificacaoFinal        217605 non-null  object \ndtypes: float64(4), int64(1), object(24)\nmemory usage: 220.8+ MB\n"
     ]
    }
   ],
   "source": [
    "dfCovidMA = pd.read_csv(\"../datasets/dados-ma.csv\", delimiter=\";\")\n",
    "dfCovidMA.info()"
   ]
  },
  {
   "cell_type": "code",
   "execution_count": 7,
   "metadata": {},
   "outputs": [
    {
     "output_type": "stream",
     "name": "stdout",
     "text": [
      "<class 'pandas.core.frame.DataFrame'>\nRangeIndex: 997928 entries, 0 to 997927\nData columns (total 16 columns):\n #   Column                    Non-Null Count   Dtype  \n---  ------                    --------------   -----  \n 0   �id                       997928 non-null  object \n 1   dataNotificacao           996897 non-null  object \n 2   dataNascimento            997928 non-null  object \n 3   sintomas                  997484 non-null  object \n 4   condicoes                 91433 non-null   object \n 5   dataTeste                 789349 non-null  object \n 6   tipoTeste                 806270 non-null  object \n 7   resultadoTeste            706051 non-null  object \n 8   sexo                      997922 non-null  object \n 9   municipio                 997922 non-null  object \n 10  municipioIBGE             997846 non-null  float64\n 11  municipioNotificacao      997907 non-null  object \n 12  municipioNotificacaoIBGE  997070 non-null  float64\n 13  idade                     997924 non-null  float64\n 14  evolucaoCaso              211417 non-null  object \n 15  classificacaoFinal        217605 non-null  object \ndtypes: float64(3), object(13)\nmemory usage: 121.8+ MB\n"
     ]
    }
   ],
   "source": [
    "dfCovidMA.drop(columns=[\"dataInicioSintomas\", \"profissionalSaude\", \"cbo\", \"estadoTeste\", \"paisOrigem\", \"estado\", \"estadoIBGE\", \"origem\", \"estadoNotificacao\", \"estadoNotificacaoIBGE\", \"excluido\", \"validado\", \"dataEncerramento\"], inplace=True)\n",
    "dfCovidMA.info()"
   ]
  },
  {
   "cell_type": "code",
   "execution_count": 8,
   "metadata": {},
   "outputs": [
    {
     "output_type": "execute_result",
     "data": {
      "text/plain": [
       "       municipioIBGE  municipioNotificacaoIBGE          idade\n",
       "count   9.978460e+05              9.970700e+05  997924.000000\n",
       "mean    2.107225e+06              2.147953e+06      40.862259\n",
       "std     4.039592e+03              3.004534e+05      19.063709\n",
       "min     2.100055e+06              1.100023e+06       0.000000\n",
       "25%     2.103406e+06              2.103505e+06      28.000000\n",
       "50%     2.107506e+06              2.108207e+06      39.000000\n",
       "75%     2.111300e+06              2.111300e+06      53.000000\n",
       "max     2.114007e+06              5.300108e+06    1039.000000"
      ],
      "text/html": "<div>\n<style scoped>\n    .dataframe tbody tr th:only-of-type {\n        vertical-align: middle;\n    }\n\n    .dataframe tbody tr th {\n        vertical-align: top;\n    }\n\n    .dataframe thead th {\n        text-align: right;\n    }\n</style>\n<table border=\"1\" class=\"dataframe\">\n  <thead>\n    <tr style=\"text-align: right;\">\n      <th></th>\n      <th>municipioIBGE</th>\n      <th>municipioNotificacaoIBGE</th>\n      <th>idade</th>\n    </tr>\n  </thead>\n  <tbody>\n    <tr>\n      <th>count</th>\n      <td>9.978460e+05</td>\n      <td>9.970700e+05</td>\n      <td>997924.000000</td>\n    </tr>\n    <tr>\n      <th>mean</th>\n      <td>2.107225e+06</td>\n      <td>2.147953e+06</td>\n      <td>40.862259</td>\n    </tr>\n    <tr>\n      <th>std</th>\n      <td>4.039592e+03</td>\n      <td>3.004534e+05</td>\n      <td>19.063709</td>\n    </tr>\n    <tr>\n      <th>min</th>\n      <td>2.100055e+06</td>\n      <td>1.100023e+06</td>\n      <td>0.000000</td>\n    </tr>\n    <tr>\n      <th>25%</th>\n      <td>2.103406e+06</td>\n      <td>2.103505e+06</td>\n      <td>28.000000</td>\n    </tr>\n    <tr>\n      <th>50%</th>\n      <td>2.107506e+06</td>\n      <td>2.108207e+06</td>\n      <td>39.000000</td>\n    </tr>\n    <tr>\n      <th>75%</th>\n      <td>2.111300e+06</td>\n      <td>2.111300e+06</td>\n      <td>53.000000</td>\n    </tr>\n    <tr>\n      <th>max</th>\n      <td>2.114007e+06</td>\n      <td>5.300108e+06</td>\n      <td>1039.000000</td>\n    </tr>\n  </tbody>\n</table>\n</div>"
     },
     "metadata": {},
     "execution_count": 8
    }
   ],
   "source": [
    "dfCovidMA.describe()"
   ]
  },
  {
   "cell_type": "code",
   "execution_count": 9,
   "metadata": {},
   "outputs": [
    {
     "output_type": "execute_result",
     "data": {
      "text/plain": [
       "               �id           dataNotificacao dataNascimento  \\\n",
       "15543   V5l36xqAeM  2020-05-05T20:32:16.172Z      undefined   \n",
       "15750   lPntxyU2PK  2020-05-07T12:59:37.800Z      undefined   \n",
       "65116   E25OHXo7Vn  2020-06-20T03:00:00.000Z      undefined   \n",
       "66792   YtyLF5GYxX  2020-06-18T03:00:00.000Z      undefined   \n",
       "84710   jweCHHOenE  2020-06-18T06:16:58.895Z      undefined   \n",
       "...            ...                       ...            ...   \n",
       "935928  kU7feBD9jQ  2021-03-28T03:00:00.000Z      undefined   \n",
       "948922  e61dwfXAgq  2021-05-27T03:00:00.000Z      undefined   \n",
       "953905  t5UVA0NAEE  2021-04-21T03:00:00.000Z      undefined   \n",
       "954059  XgKxdEjtWp  2021-06-02T03:00:00.000Z      undefined   \n",
       "966419  0kOL9vX8H0  2021-06-01T03:00:00.000Z      undefined   \n",
       "\n",
       "                       sintomas  \\\n",
       "15543   Dispneia, Tosse, Outros   \n",
       "15750              Tosse, Febre   \n",
       "65116                     Tosse   \n",
       "66792             Tosse, Outros   \n",
       "84710                       NaN   \n",
       "...                         ...   \n",
       "935928            Assintom�tico   \n",
       "948922            Febre, Outros   \n",
       "953905          Dispneia, Tosse   \n",
       "954059    Coriza, Dor de Cabe�a   \n",
       "966419            Assintom�tico   \n",
       "\n",
       "                                            condicoes  \\\n",
       "15543                                        Diabetes   \n",
       "15750                                             NaN   \n",
       "65116                                             NaN   \n",
       "66792                                             NaN   \n",
       "84710                                             NaN   \n",
       "...                                               ...   \n",
       "935928                                            NaN   \n",
       "948922                                            NaN   \n",
       "953905  Doen�as respirat�rias cr�nicas descompensadas   \n",
       "954059                                            NaN   \n",
       "966419                                            NaN   \n",
       "\n",
       "                       dataTeste                 tipoTeste resultadoTeste  \\\n",
       "15543   2020-05-05T03:00:00.000Z  TESTE R�PIDO - ANTICORPO       Negativo   \n",
       "15750   2020-05-06T03:00:00.000Z  TESTE R�PIDO - ANTICORPO       Negativo   \n",
       "65116   2020-06-20T03:00:00.000Z  TESTE R�PIDO - ANTICORPO       Negativo   \n",
       "66792   2020-06-18T03:00:00.000Z                    RT-PCR       Negativo   \n",
       "84710   2020-06-15T00:00:00.000Z  TESTE R�PIDO - ANTICORPO       Negativo   \n",
       "...                          ...                       ...            ...   \n",
       "935928  2021-03-28T03:00:00.000Z  TESTE R�PIDO - ANTICORPO       Positivo   \n",
       "948922  2021-05-27T03:00:00.000Z  TESTE R�PIDO - ANTICORPO       Positivo   \n",
       "953905  2021-04-21T03:00:00.000Z                    RT-PCR       Negativo   \n",
       "954059                       NaN                    RT-PCR            NaN   \n",
       "966419                       NaN   TESTE R�PIDO - ANT�GENO            NaN   \n",
       "\n",
       "             sexo    municipio  municipioIBGE municipioNotificacao  \\\n",
       "15543    Feminino    S�o Bento      2110500.0            S�o Bento   \n",
       "15750   Masculino     Cururupu      2103703.0             Cururupu   \n",
       "65116   Masculino  Paulo Ramos      2108108.0          Paulo Ramos   \n",
       "66792   Masculino       Caxias      2103000.0               Caxias   \n",
       "84710   Masculino     S�o Lu�s      2111300.0             S�o Lu�s   \n",
       "...           ...          ...            ...                  ...   \n",
       "935928   Feminino   Santa In�s      2109908.0           Santa In�s   \n",
       "948922  Masculino   A�ail�ndia      2100055.0           A�ail�ndia   \n",
       "953905   Feminino       Caxias      2103000.0               Caxias   \n",
       "954059   Feminino     S�o Lu�s      2111300.0             S�o Lu�s   \n",
       "966419   Feminino       Morros      2107100.0               Morros   \n",
       "\n",
       "        municipioNotificacaoIBGE  idade evolucaoCaso       classificacaoFinal  \n",
       "15543                  2110500.0  326.0          NaN                      NaN  \n",
       "15750                  2103703.0  338.0          NaN                      NaN  \n",
       "65116                  2108108.0  167.0          NaN                      NaN  \n",
       "66792                  2103000.0  175.0          NaN                      NaN  \n",
       "84710                  2111300.0  830.0          NaN                      NaN  \n",
       "...                          ...    ...          ...                      ...  \n",
       "935928                 2109908.0  358.0         Cura  Confirmado Laboratorial  \n",
       "948922                 2100055.0  326.0          NaN                      NaN  \n",
       "953905                 2103000.0  345.0         Cura               Descartado  \n",
       "954059                 2111300.0  224.0          NaN                      NaN  \n",
       "966419                 2107100.0  154.0          NaN                      NaN  \n",
       "\n",
       "[100 rows x 16 columns]"
      ],
      "text/html": "<div>\n<style scoped>\n    .dataframe tbody tr th:only-of-type {\n        vertical-align: middle;\n    }\n\n    .dataframe tbody tr th {\n        vertical-align: top;\n    }\n\n    .dataframe thead th {\n        text-align: right;\n    }\n</style>\n<table border=\"1\" class=\"dataframe\">\n  <thead>\n    <tr style=\"text-align: right;\">\n      <th></th>\n      <th>�id</th>\n      <th>dataNotificacao</th>\n      <th>dataNascimento</th>\n      <th>sintomas</th>\n      <th>condicoes</th>\n      <th>dataTeste</th>\n      <th>tipoTeste</th>\n      <th>resultadoTeste</th>\n      <th>sexo</th>\n      <th>municipio</th>\n      <th>municipioIBGE</th>\n      <th>municipioNotificacao</th>\n      <th>municipioNotificacaoIBGE</th>\n      <th>idade</th>\n      <th>evolucaoCaso</th>\n      <th>classificacaoFinal</th>\n    </tr>\n  </thead>\n  <tbody>\n    <tr>\n      <th>15543</th>\n      <td>V5l36xqAeM</td>\n      <td>2020-05-05T20:32:16.172Z</td>\n      <td>undefined</td>\n      <td>Dispneia, Tosse, Outros</td>\n      <td>Diabetes</td>\n      <td>2020-05-05T03:00:00.000Z</td>\n      <td>TESTE R�PIDO - ANTICORPO</td>\n      <td>Negativo</td>\n      <td>Feminino</td>\n      <td>S�o Bento</td>\n      <td>2110500.0</td>\n      <td>S�o Bento</td>\n      <td>2110500.0</td>\n      <td>326.0</td>\n      <td>NaN</td>\n      <td>NaN</td>\n    </tr>\n    <tr>\n      <th>15750</th>\n      <td>lPntxyU2PK</td>\n      <td>2020-05-07T12:59:37.800Z</td>\n      <td>undefined</td>\n      <td>Tosse, Febre</td>\n      <td>NaN</td>\n      <td>2020-05-06T03:00:00.000Z</td>\n      <td>TESTE R�PIDO - ANTICORPO</td>\n      <td>Negativo</td>\n      <td>Masculino</td>\n      <td>Cururupu</td>\n      <td>2103703.0</td>\n      <td>Cururupu</td>\n      <td>2103703.0</td>\n      <td>338.0</td>\n      <td>NaN</td>\n      <td>NaN</td>\n    </tr>\n    <tr>\n      <th>65116</th>\n      <td>E25OHXo7Vn</td>\n      <td>2020-06-20T03:00:00.000Z</td>\n      <td>undefined</td>\n      <td>Tosse</td>\n      <td>NaN</td>\n      <td>2020-06-20T03:00:00.000Z</td>\n      <td>TESTE R�PIDO - ANTICORPO</td>\n      <td>Negativo</td>\n      <td>Masculino</td>\n      <td>Paulo Ramos</td>\n      <td>2108108.0</td>\n      <td>Paulo Ramos</td>\n      <td>2108108.0</td>\n      <td>167.0</td>\n      <td>NaN</td>\n      <td>NaN</td>\n    </tr>\n    <tr>\n      <th>66792</th>\n      <td>YtyLF5GYxX</td>\n      <td>2020-06-18T03:00:00.000Z</td>\n      <td>undefined</td>\n      <td>Tosse, Outros</td>\n      <td>NaN</td>\n      <td>2020-06-18T03:00:00.000Z</td>\n      <td>RT-PCR</td>\n      <td>Negativo</td>\n      <td>Masculino</td>\n      <td>Caxias</td>\n      <td>2103000.0</td>\n      <td>Caxias</td>\n      <td>2103000.0</td>\n      <td>175.0</td>\n      <td>NaN</td>\n      <td>NaN</td>\n    </tr>\n    <tr>\n      <th>84710</th>\n      <td>jweCHHOenE</td>\n      <td>2020-06-18T06:16:58.895Z</td>\n      <td>undefined</td>\n      <td>NaN</td>\n      <td>NaN</td>\n      <td>2020-06-15T00:00:00.000Z</td>\n      <td>TESTE R�PIDO - ANTICORPO</td>\n      <td>Negativo</td>\n      <td>Masculino</td>\n      <td>S�o Lu�s</td>\n      <td>2111300.0</td>\n      <td>S�o Lu�s</td>\n      <td>2111300.0</td>\n      <td>830.0</td>\n      <td>NaN</td>\n      <td>NaN</td>\n    </tr>\n    <tr>\n      <th>...</th>\n      <td>...</td>\n      <td>...</td>\n      <td>...</td>\n      <td>...</td>\n      <td>...</td>\n      <td>...</td>\n      <td>...</td>\n      <td>...</td>\n      <td>...</td>\n      <td>...</td>\n      <td>...</td>\n      <td>...</td>\n      <td>...</td>\n      <td>...</td>\n      <td>...</td>\n      <td>...</td>\n    </tr>\n    <tr>\n      <th>935928</th>\n      <td>kU7feBD9jQ</td>\n      <td>2021-03-28T03:00:00.000Z</td>\n      <td>undefined</td>\n      <td>Assintom�tico</td>\n      <td>NaN</td>\n      <td>2021-03-28T03:00:00.000Z</td>\n      <td>TESTE R�PIDO - ANTICORPO</td>\n      <td>Positivo</td>\n      <td>Feminino</td>\n      <td>Santa In�s</td>\n      <td>2109908.0</td>\n      <td>Santa In�s</td>\n      <td>2109908.0</td>\n      <td>358.0</td>\n      <td>Cura</td>\n      <td>Confirmado Laboratorial</td>\n    </tr>\n    <tr>\n      <th>948922</th>\n      <td>e61dwfXAgq</td>\n      <td>2021-05-27T03:00:00.000Z</td>\n      <td>undefined</td>\n      <td>Febre, Outros</td>\n      <td>NaN</td>\n      <td>2021-05-27T03:00:00.000Z</td>\n      <td>TESTE R�PIDO - ANTICORPO</td>\n      <td>Positivo</td>\n      <td>Masculino</td>\n      <td>A�ail�ndia</td>\n      <td>2100055.0</td>\n      <td>A�ail�ndia</td>\n      <td>2100055.0</td>\n      <td>326.0</td>\n      <td>NaN</td>\n      <td>NaN</td>\n    </tr>\n    <tr>\n      <th>953905</th>\n      <td>t5UVA0NAEE</td>\n      <td>2021-04-21T03:00:00.000Z</td>\n      <td>undefined</td>\n      <td>Dispneia, Tosse</td>\n      <td>Doen�as respirat�rias cr�nicas descompensadas</td>\n      <td>2021-04-21T03:00:00.000Z</td>\n      <td>RT-PCR</td>\n      <td>Negativo</td>\n      <td>Feminino</td>\n      <td>Caxias</td>\n      <td>2103000.0</td>\n      <td>Caxias</td>\n      <td>2103000.0</td>\n      <td>345.0</td>\n      <td>Cura</td>\n      <td>Descartado</td>\n    </tr>\n    <tr>\n      <th>954059</th>\n      <td>XgKxdEjtWp</td>\n      <td>2021-06-02T03:00:00.000Z</td>\n      <td>undefined</td>\n      <td>Coriza, Dor de Cabe�a</td>\n      <td>NaN</td>\n      <td>NaN</td>\n      <td>RT-PCR</td>\n      <td>NaN</td>\n      <td>Feminino</td>\n      <td>S�o Lu�s</td>\n      <td>2111300.0</td>\n      <td>S�o Lu�s</td>\n      <td>2111300.0</td>\n      <td>224.0</td>\n      <td>NaN</td>\n      <td>NaN</td>\n    </tr>\n    <tr>\n      <th>966419</th>\n      <td>0kOL9vX8H0</td>\n      <td>2021-06-01T03:00:00.000Z</td>\n      <td>undefined</td>\n      <td>Assintom�tico</td>\n      <td>NaN</td>\n      <td>NaN</td>\n      <td>TESTE R�PIDO - ANT�GENO</td>\n      <td>NaN</td>\n      <td>Feminino</td>\n      <td>Morros</td>\n      <td>2107100.0</td>\n      <td>Morros</td>\n      <td>2107100.0</td>\n      <td>154.0</td>\n      <td>NaN</td>\n      <td>NaN</td>\n    </tr>\n  </tbody>\n</table>\n<p>100 rows × 16 columns</p>\n</div>"
     },
     "metadata": {},
     "execution_count": 9
    }
   ],
   "source": [
    "dfCovidMA[dfCovidMA[\"idade\"] > 150]"
   ]
  },
  {
   "cell_type": "code",
   "execution_count": 4,
   "metadata": {},
   "outputs": [],
   "source": [
    "dfCovidMA.to_csv(\"../datasets/dados_ma_tratados.csv\", sep=\";\", index=False)"
   ]
  },
  {
   "cell_type": "code",
   "execution_count": null,
   "metadata": {},
   "outputs": [],
   "source": []
  }
 ]
}