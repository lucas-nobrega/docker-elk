{
 "metadata": {
  "language_info": {
   "codemirror_mode": {
    "name": "ipython",
    "version": 3
   },
   "file_extension": ".py",
   "mimetype": "text/x-python",
   "name": "python",
   "nbconvert_exporter": "python",
   "pygments_lexer": "ipython3",
   "version": "3.9.5"
  },
  "orig_nbformat": 4,
  "kernelspec": {
   "name": "python3",
   "display_name": "Python 3.9.5 64-bit"
  },
  "interpreter": {
   "hash": "63fd5069d213b44bf678585dea6b12cceca9941eaf7f819626cde1f2670de90d"
  }
 },
 "nbformat": 4,
 "nbformat_minor": 2,
 "cells": [
  {
   "cell_type": "code",
   "execution_count": 1,
   "metadata": {},
   "outputs": [],
   "source": [
    "import pandas as pd\n",
    "\n"
   ]
  },
  {
   "cell_type": "code",
   "execution_count": 2,
   "metadata": {},
   "outputs": [
    {
     "output_type": "stream",
     "name": "stdout",
     "text": [
      "<class 'pandas.core.frame.DataFrame'>\nRangeIndex: 5586 entries, 0 to 5585\nData columns (total 5 columns):\n #   Column              Non-Null Count  Dtype \n---  ------              --------------  ----- \n 0   UF                  5584 non-null   object\n 1   COD. UF             5570 non-null   object\n 2   COD. MUNIC          5570 non-null   object\n 3   NOME DO MUNICÍPIO   5570 non-null   object\n 4   POPULAÇÃO ESTIMADA  5570 non-null   object\ndtypes: object(5)\nmemory usage: 218.3+ KB\n"
     ]
    }
   ],
   "source": [
    "tipos = {\n",
    "    \"COD. UF\" : str,\n",
    "    \"COD. MUNIC\" : str\n",
    "}\n",
    "\n",
    "dfPopulacao = pd.read_excel(\"../datasets/estimativa_dou_2020.xls\", sheet_name=\"Municípios\", skiprows=1, dtype=tipos)\n",
    "dfPopulacao.info()"
   ]
  },
  {
   "cell_type": "code",
   "execution_count": 3,
   "metadata": {},
   "outputs": [
    {
     "output_type": "execute_result",
     "data": {
      "text/plain": [
       "                                                     UF COD. UF COD. MUNIC  \\\n",
       "0                                                    RO      11      00015   \n",
       "1                                                    RO      11      00023   \n",
       "2                                                    RO      11      00031   \n",
       "3                                                    RO      11      00049   \n",
       "4                                                    RO      11      00056   \n",
       "...                                                 ...     ...        ...   \n",
       "5581  (8) População judicial do município de Ferreir...     NaN        NaN   \n",
       "5582  (9) População judicial do município Coronel Jo...     NaN        NaN   \n",
       "5583  (10) População judicial do município Ibiassucê...     NaN        NaN   \n",
       "5584  (11) População judicial do município de Rodela...     NaN        NaN   \n",
       "5585  (12) População judicial do município de Vera C...     NaN        NaN   \n",
       "\n",
       "          NOME DO MUNICÍPIO POPULAÇÃO ESTIMADA  \n",
       "0     Alta Floresta D'Oeste              22728  \n",
       "1                 Ariquemes             109523  \n",
       "2                    Cabixi               5188  \n",
       "3                    Cacoal              85893  \n",
       "4                Cerejeiras              16204  \n",
       "...                     ...                ...  \n",
       "5581                    NaN                NaN  \n",
       "5582                    NaN                NaN  \n",
       "5583                    NaN                NaN  \n",
       "5584                    NaN                NaN  \n",
       "5585                    NaN                NaN  \n",
       "\n",
       "[5586 rows x 5 columns]"
      ],
      "text/html": "<div>\n<style scoped>\n    .dataframe tbody tr th:only-of-type {\n        vertical-align: middle;\n    }\n\n    .dataframe tbody tr th {\n        vertical-align: top;\n    }\n\n    .dataframe thead th {\n        text-align: right;\n    }\n</style>\n<table border=\"1\" class=\"dataframe\">\n  <thead>\n    <tr style=\"text-align: right;\">\n      <th></th>\n      <th>UF</th>\n      <th>COD. UF</th>\n      <th>COD. MUNIC</th>\n      <th>NOME DO MUNICÍPIO</th>\n      <th>POPULAÇÃO ESTIMADA</th>\n    </tr>\n  </thead>\n  <tbody>\n    <tr>\n      <th>0</th>\n      <td>RO</td>\n      <td>11</td>\n      <td>00015</td>\n      <td>Alta Floresta D'Oeste</td>\n      <td>22728</td>\n    </tr>\n    <tr>\n      <th>1</th>\n      <td>RO</td>\n      <td>11</td>\n      <td>00023</td>\n      <td>Ariquemes</td>\n      <td>109523</td>\n    </tr>\n    <tr>\n      <th>2</th>\n      <td>RO</td>\n      <td>11</td>\n      <td>00031</td>\n      <td>Cabixi</td>\n      <td>5188</td>\n    </tr>\n    <tr>\n      <th>3</th>\n      <td>RO</td>\n      <td>11</td>\n      <td>00049</td>\n      <td>Cacoal</td>\n      <td>85893</td>\n    </tr>\n    <tr>\n      <th>4</th>\n      <td>RO</td>\n      <td>11</td>\n      <td>00056</td>\n      <td>Cerejeiras</td>\n      <td>16204</td>\n    </tr>\n    <tr>\n      <th>...</th>\n      <td>...</td>\n      <td>...</td>\n      <td>...</td>\n      <td>...</td>\n      <td>...</td>\n    </tr>\n    <tr>\n      <th>5581</th>\n      <td>(8) População judicial do município de Ferreir...</td>\n      <td>NaN</td>\n      <td>NaN</td>\n      <td>NaN</td>\n      <td>NaN</td>\n    </tr>\n    <tr>\n      <th>5582</th>\n      <td>(9) População judicial do município Coronel Jo...</td>\n      <td>NaN</td>\n      <td>NaN</td>\n      <td>NaN</td>\n      <td>NaN</td>\n    </tr>\n    <tr>\n      <th>5583</th>\n      <td>(10) População judicial do município Ibiassucê...</td>\n      <td>NaN</td>\n      <td>NaN</td>\n      <td>NaN</td>\n      <td>NaN</td>\n    </tr>\n    <tr>\n      <th>5584</th>\n      <td>(11) População judicial do município de Rodela...</td>\n      <td>NaN</td>\n      <td>NaN</td>\n      <td>NaN</td>\n      <td>NaN</td>\n    </tr>\n    <tr>\n      <th>5585</th>\n      <td>(12) População judicial do município de Vera C...</td>\n      <td>NaN</td>\n      <td>NaN</td>\n      <td>NaN</td>\n      <td>NaN</td>\n    </tr>\n  </tbody>\n</table>\n<p>5586 rows × 5 columns</p>\n</div>"
     },
     "metadata": {},
     "execution_count": 3
    }
   ],
   "source": [
    "dfPopulacao"
   ]
  },
  {
   "cell_type": "code",
   "execution_count": 4,
   "metadata": {},
   "outputs": [
    {
     "output_type": "execute_result",
     "data": {
      "text/plain": [
       "                                                     uf codigo_uf  \\\n",
       "0                                                    RO        11   \n",
       "1                                                    RO        11   \n",
       "2                                                    RO        11   \n",
       "3                                                    RO        11   \n",
       "4                                                    RO        11   \n",
       "...                                                 ...       ...   \n",
       "5581  (8) População judicial do município de Ferreir...       NaN   \n",
       "5582  (9) População judicial do município Coronel Jo...       NaN   \n",
       "5583  (10) População judicial do município Ibiassucê...       NaN   \n",
       "5584  (11) População judicial do município de Rodela...       NaN   \n",
       "5585  (12) População judicial do município de Vera C...       NaN   \n",
       "\n",
       "     codigo_municipio         nome_municipio populacao  \n",
       "0               00015  Alta Floresta D'Oeste     22728  \n",
       "1               00023              Ariquemes    109523  \n",
       "2               00031                 Cabixi      5188  \n",
       "3               00049                 Cacoal     85893  \n",
       "4               00056             Cerejeiras     16204  \n",
       "...               ...                    ...       ...  \n",
       "5581              NaN                    NaN       NaN  \n",
       "5582              NaN                    NaN       NaN  \n",
       "5583              NaN                    NaN       NaN  \n",
       "5584              NaN                    NaN       NaN  \n",
       "5585              NaN                    NaN       NaN  \n",
       "\n",
       "[5586 rows x 5 columns]"
      ],
      "text/html": "<div>\n<style scoped>\n    .dataframe tbody tr th:only-of-type {\n        vertical-align: middle;\n    }\n\n    .dataframe tbody tr th {\n        vertical-align: top;\n    }\n\n    .dataframe thead th {\n        text-align: right;\n    }\n</style>\n<table border=\"1\" class=\"dataframe\">\n  <thead>\n    <tr style=\"text-align: right;\">\n      <th></th>\n      <th>uf</th>\n      <th>codigo_uf</th>\n      <th>codigo_municipio</th>\n      <th>nome_municipio</th>\n      <th>populacao</th>\n    </tr>\n  </thead>\n  <tbody>\n    <tr>\n      <th>0</th>\n      <td>RO</td>\n      <td>11</td>\n      <td>00015</td>\n      <td>Alta Floresta D'Oeste</td>\n      <td>22728</td>\n    </tr>\n    <tr>\n      <th>1</th>\n      <td>RO</td>\n      <td>11</td>\n      <td>00023</td>\n      <td>Ariquemes</td>\n      <td>109523</td>\n    </tr>\n    <tr>\n      <th>2</th>\n      <td>RO</td>\n      <td>11</td>\n      <td>00031</td>\n      <td>Cabixi</td>\n      <td>5188</td>\n    </tr>\n    <tr>\n      <th>3</th>\n      <td>RO</td>\n      <td>11</td>\n      <td>00049</td>\n      <td>Cacoal</td>\n      <td>85893</td>\n    </tr>\n    <tr>\n      <th>4</th>\n      <td>RO</td>\n      <td>11</td>\n      <td>00056</td>\n      <td>Cerejeiras</td>\n      <td>16204</td>\n    </tr>\n    <tr>\n      <th>...</th>\n      <td>...</td>\n      <td>...</td>\n      <td>...</td>\n      <td>...</td>\n      <td>...</td>\n    </tr>\n    <tr>\n      <th>5581</th>\n      <td>(8) População judicial do município de Ferreir...</td>\n      <td>NaN</td>\n      <td>NaN</td>\n      <td>NaN</td>\n      <td>NaN</td>\n    </tr>\n    <tr>\n      <th>5582</th>\n      <td>(9) População judicial do município Coronel Jo...</td>\n      <td>NaN</td>\n      <td>NaN</td>\n      <td>NaN</td>\n      <td>NaN</td>\n    </tr>\n    <tr>\n      <th>5583</th>\n      <td>(10) População judicial do município Ibiassucê...</td>\n      <td>NaN</td>\n      <td>NaN</td>\n      <td>NaN</td>\n      <td>NaN</td>\n    </tr>\n    <tr>\n      <th>5584</th>\n      <td>(11) População judicial do município de Rodela...</td>\n      <td>NaN</td>\n      <td>NaN</td>\n      <td>NaN</td>\n      <td>NaN</td>\n    </tr>\n    <tr>\n      <th>5585</th>\n      <td>(12) População judicial do município de Vera C...</td>\n      <td>NaN</td>\n      <td>NaN</td>\n      <td>NaN</td>\n      <td>NaN</td>\n    </tr>\n  </tbody>\n</table>\n<p>5586 rows × 5 columns</p>\n</div>"
     },
     "metadata": {},
     "execution_count": 4
    }
   ],
   "source": [
    "colunas = {\n",
    "    \"UF\" : \"uf\",\n",
    "    \"COD. UF\": \"codigo_uf\",\n",
    "    \"COD. MUNIC\" : \"codigo_municipio\",\n",
    "    \"NOME DO MUNICÍPIO\": \"nome_municipio\",\n",
    "    \"POPULAÇÃO ESTIMADA\" : \"populacao\"\n",
    "}\n",
    "\n",
    "\n",
    "dfPopulacao.rename(columns=colunas, inplace=True)\n",
    "dfPopulacao"
   ]
  },
  {
   "cell_type": "code",
   "execution_count": 5,
   "metadata": {},
   "outputs": [
    {
     "output_type": "execute_result",
     "data": {
      "text/plain": [
       "      uf codigo_uf codigo_municipio         nome_municipio populacao\n",
       "0     RO        11            00015  Alta Floresta D'Oeste     22728\n",
       "1     RO        11            00023              Ariquemes    109523\n",
       "2     RO        11            00031                 Cabixi      5188\n",
       "3     RO        11            00049                 Cacoal     85893\n",
       "4     RO        11            00056             Cerejeiras     16204\n",
       "...   ..       ...              ...                    ...       ...\n",
       "5565  GO        52            22005             Vianópolis     13977\n",
       "5566  GO        52            22054         Vicentinópolis      8873\n",
       "5567  GO        52            22203               Vila Boa      6312\n",
       "5568  GO        52            22302          Vila Propício      5882\n",
       "5569  DF        53            00108               Brasília   3055149\n",
       "\n",
       "[5570 rows x 5 columns]"
      ],
      "text/html": "<div>\n<style scoped>\n    .dataframe tbody tr th:only-of-type {\n        vertical-align: middle;\n    }\n\n    .dataframe tbody tr th {\n        vertical-align: top;\n    }\n\n    .dataframe thead th {\n        text-align: right;\n    }\n</style>\n<table border=\"1\" class=\"dataframe\">\n  <thead>\n    <tr style=\"text-align: right;\">\n      <th></th>\n      <th>uf</th>\n      <th>codigo_uf</th>\n      <th>codigo_municipio</th>\n      <th>nome_municipio</th>\n      <th>populacao</th>\n    </tr>\n  </thead>\n  <tbody>\n    <tr>\n      <th>0</th>\n      <td>RO</td>\n      <td>11</td>\n      <td>00015</td>\n      <td>Alta Floresta D'Oeste</td>\n      <td>22728</td>\n    </tr>\n    <tr>\n      <th>1</th>\n      <td>RO</td>\n      <td>11</td>\n      <td>00023</td>\n      <td>Ariquemes</td>\n      <td>109523</td>\n    </tr>\n    <tr>\n      <th>2</th>\n      <td>RO</td>\n      <td>11</td>\n      <td>00031</td>\n      <td>Cabixi</td>\n      <td>5188</td>\n    </tr>\n    <tr>\n      <th>3</th>\n      <td>RO</td>\n      <td>11</td>\n      <td>00049</td>\n      <td>Cacoal</td>\n      <td>85893</td>\n    </tr>\n    <tr>\n      <th>4</th>\n      <td>RO</td>\n      <td>11</td>\n      <td>00056</td>\n      <td>Cerejeiras</td>\n      <td>16204</td>\n    </tr>\n    <tr>\n      <th>...</th>\n      <td>...</td>\n      <td>...</td>\n      <td>...</td>\n      <td>...</td>\n      <td>...</td>\n    </tr>\n    <tr>\n      <th>5565</th>\n      <td>GO</td>\n      <td>52</td>\n      <td>22005</td>\n      <td>Vianópolis</td>\n      <td>13977</td>\n    </tr>\n    <tr>\n      <th>5566</th>\n      <td>GO</td>\n      <td>52</td>\n      <td>22054</td>\n      <td>Vicentinópolis</td>\n      <td>8873</td>\n    </tr>\n    <tr>\n      <th>5567</th>\n      <td>GO</td>\n      <td>52</td>\n      <td>22203</td>\n      <td>Vila Boa</td>\n      <td>6312</td>\n    </tr>\n    <tr>\n      <th>5568</th>\n      <td>GO</td>\n      <td>52</td>\n      <td>22302</td>\n      <td>Vila Propício</td>\n      <td>5882</td>\n    </tr>\n    <tr>\n      <th>5569</th>\n      <td>DF</td>\n      <td>53</td>\n      <td>00108</td>\n      <td>Brasília</td>\n      <td>3055149</td>\n    </tr>\n  </tbody>\n</table>\n<p>5570 rows × 5 columns</p>\n</div>"
     },
     "metadata": {},
     "execution_count": 5
    }
   ],
   "source": [
    "dfPopulacao.dropna(inplace=True)\n",
    "dfPopulacao"
   ]
  },
  {
   "cell_type": "code",
   "execution_count": 6,
   "metadata": {},
   "outputs": [],
   "source": [
    "dfPopulacao[\"populacao\"] = dfPopulacao[\"populacao\"].replace({r\"(\\d+)(.*)\" : r\"\\1\"}, regex=True)\n",
    "\n",
    "dfPopulacao[\"municipioIBGE\"] = dfPopulacao[\"codigo_uf\"] + dfPopulacao[\"codigo_municipio\"]"
   ]
  },
  {
   "cell_type": "code",
   "execution_count": 8,
   "metadata": {},
   "outputs": [],
   "source": [
    "dfPopulacao.to_csv(\"../datasets/populacao_tratada.csv\", sep=\";\", index=False)"
   ]
  },
  {
   "cell_type": "code",
   "execution_count": 9,
   "metadata": {},
   "outputs": [
    {
     "output_type": "execute_result",
     "data": {
      "text/plain": [
       "      uf codigo_uf codigo_municipio         nome_municipio populacao  \\\n",
       "0     RO        11            00015  Alta Floresta D'Oeste     22728   \n",
       "1     RO        11            00023              Ariquemes    109523   \n",
       "2     RO        11            00031                 Cabixi      5188   \n",
       "3     RO        11            00049                 Cacoal     85893   \n",
       "4     RO        11            00056             Cerejeiras     16204   \n",
       "...   ..       ...              ...                    ...       ...   \n",
       "5565  GO        52            22005             Vianópolis     13977   \n",
       "5566  GO        52            22054         Vicentinópolis      8873   \n",
       "5567  GO        52            22203               Vila Boa      6312   \n",
       "5568  GO        52            22302          Vila Propício      5882   \n",
       "5569  DF        53            00108               Brasília   3055149   \n",
       "\n",
       "     municipioIBGE  \n",
       "0          1100015  \n",
       "1          1100023  \n",
       "2          1100031  \n",
       "3          1100049  \n",
       "4          1100056  \n",
       "...            ...  \n",
       "5565       5222005  \n",
       "5566       5222054  \n",
       "5567       5222203  \n",
       "5568       5222302  \n",
       "5569       5300108  \n",
       "\n",
       "[5570 rows x 6 columns]"
      ],
      "text/html": "<div>\n<style scoped>\n    .dataframe tbody tr th:only-of-type {\n        vertical-align: middle;\n    }\n\n    .dataframe tbody tr th {\n        vertical-align: top;\n    }\n\n    .dataframe thead th {\n        text-align: right;\n    }\n</style>\n<table border=\"1\" class=\"dataframe\">\n  <thead>\n    <tr style=\"text-align: right;\">\n      <th></th>\n      <th>uf</th>\n      <th>codigo_uf</th>\n      <th>codigo_municipio</th>\n      <th>nome_municipio</th>\n      <th>populacao</th>\n      <th>municipioIBGE</th>\n    </tr>\n  </thead>\n  <tbody>\n    <tr>\n      <th>0</th>\n      <td>RO</td>\n      <td>11</td>\n      <td>00015</td>\n      <td>Alta Floresta D'Oeste</td>\n      <td>22728</td>\n      <td>1100015</td>\n    </tr>\n    <tr>\n      <th>1</th>\n      <td>RO</td>\n      <td>11</td>\n      <td>00023</td>\n      <td>Ariquemes</td>\n      <td>109523</td>\n      <td>1100023</td>\n    </tr>\n    <tr>\n      <th>2</th>\n      <td>RO</td>\n      <td>11</td>\n      <td>00031</td>\n      <td>Cabixi</td>\n      <td>5188</td>\n      <td>1100031</td>\n    </tr>\n    <tr>\n      <th>3</th>\n      <td>RO</td>\n      <td>11</td>\n      <td>00049</td>\n      <td>Cacoal</td>\n      <td>85893</td>\n      <td>1100049</td>\n    </tr>\n    <tr>\n      <th>4</th>\n      <td>RO</td>\n      <td>11</td>\n      <td>00056</td>\n      <td>Cerejeiras</td>\n      <td>16204</td>\n      <td>1100056</td>\n    </tr>\n    <tr>\n      <th>...</th>\n      <td>...</td>\n      <td>...</td>\n      <td>...</td>\n      <td>...</td>\n      <td>...</td>\n      <td>...</td>\n    </tr>\n    <tr>\n      <th>5565</th>\n      <td>GO</td>\n      <td>52</td>\n      <td>22005</td>\n      <td>Vianópolis</td>\n      <td>13977</td>\n      <td>5222005</td>\n    </tr>\n    <tr>\n      <th>5566</th>\n      <td>GO</td>\n      <td>52</td>\n      <td>22054</td>\n      <td>Vicentinópolis</td>\n      <td>8873</td>\n      <td>5222054</td>\n    </tr>\n    <tr>\n      <th>5567</th>\n      <td>GO</td>\n      <td>52</td>\n      <td>22203</td>\n      <td>Vila Boa</td>\n      <td>6312</td>\n      <td>5222203</td>\n    </tr>\n    <tr>\n      <th>5568</th>\n      <td>GO</td>\n      <td>52</td>\n      <td>22302</td>\n      <td>Vila Propício</td>\n      <td>5882</td>\n      <td>5222302</td>\n    </tr>\n    <tr>\n      <th>5569</th>\n      <td>DF</td>\n      <td>53</td>\n      <td>00108</td>\n      <td>Brasília</td>\n      <td>3055149</td>\n      <td>5300108</td>\n    </tr>\n  </tbody>\n</table>\n<p>5570 rows × 6 columns</p>\n</div>"
     },
     "metadata": {},
     "execution_count": 9
    }
   ],
   "source": [
    "dfPopulacao"
   ]
  },
  {
   "cell_type": "code",
   "execution_count": null,
   "metadata": {},
   "outputs": [],
   "source": []
  }
 ]
}