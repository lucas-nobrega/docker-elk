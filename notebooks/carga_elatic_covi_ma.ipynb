{
 "metadata": {
  "language_info": {
   "codemirror_mode": {
    "name": "ipython",
    "version": 3
   },
   "file_extension": ".py",
   "mimetype": "text/x-python",
   "name": "python",
   "nbconvert_exporter": "python",
   "pygments_lexer": "ipython3",
   "version": "3.9.5"
  },
  "orig_nbformat": 4,
  "kernelspec": {
   "name": "python3",
   "display_name": "Python 3.9.5 64-bit"
  },
  "interpreter": {
   "hash": "63fd5069d213b44bf678585dea6b12cceca9941eaf7f819626cde1f2670de90d"
  }
 },
 "nbformat": 4,
 "nbformat_minor": 2,
 "cells": [
  {
   "cell_type": "code",
   "execution_count": 1,
   "metadata": {},
   "outputs": [],
   "source": [
    "import eland as ed\n",
    "import pandas as pd"
   ]
  },
  {
   "cell_type": "code",
   "execution_count": 6,
   "metadata": {},
   "outputs": [],
   "source": [
    "dfConvidMA = pd.read_csv(\"../datasets/dados_ma_tratados.csv\", delimiter=\";\")"
   ]
  },
  {
   "cell_type": "code",
   "execution_count": 7,
   "metadata": {},
   "outputs": [
    {
     "output_type": "stream",
     "name": "stdout",
     "text": [
      "<class 'pandas.core.frame.DataFrame'>\nRangeIndex: 997928 entries, 0 to 997927\nData columns (total 18 columns):\n #   Column                    Non-Null Count   Dtype  \n---  ------                    --------------   -----  \n 0   Unnamed: 0                997928 non-null  int64  \n 1   �id                       997928 non-null  object \n 2   dataNotificacao           996897 non-null  object \n 3   dataNascimento            997928 non-null  object \n 4   sintomas                  997484 non-null  object \n 5   condicoes                 91433 non-null   object \n 6   tipoTeste                 806270 non-null  object \n 7   resultadoTeste            706051 non-null  object \n 8   sexo                      997922 non-null  object \n 9   estado                    997928 non-null  object \n 10  estadoIBGE                997928 non-null  int64  \n 11  municipio                 997922 non-null  object \n 12  municipioIBGE             997846 non-null  float64\n 13  municipioNotificacao      997907 non-null  object \n 14  municipioNotificacaoIBGE  997070 non-null  float64\n 15  idade                     997924 non-null  float64\n 16  evolucaoCaso              211417 non-null  object \n 17  classificacaoFinal        217605 non-null  object \ndtypes: float64(3), int64(2), object(13)\nmemory usage: 137.0+ MB\n"
     ]
    }
   ],
   "source": [
    "dfConvidMA.info()"
   ]
  },
  {
   "cell_type": "code",
   "execution_count": null,
   "metadata": {},
   "outputs": [],
   "source": []
  }
 ]
}